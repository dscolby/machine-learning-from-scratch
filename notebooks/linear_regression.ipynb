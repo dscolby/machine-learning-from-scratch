{
 "cells": [
  {
   "cell_type": "markdown",
   "metadata": {},
   "source": [
    "# HW2  Regression Fun Time!\n",
    "## Due Monday February 14th, 2022 at Midnight"
   ]
  },
  {
   "cell_type": "markdown",
   "metadata": {},
   "source": [
    "Please run the cell below to import libraries needed for this HW. Please use the autograd numpy, otherwise you will have issues. "
   ]
  },
  {
   "cell_type": "code",
   "execution_count": 1,
   "metadata": {},
   "outputs": [],
   "source": [
    "# Imports\n",
    "import autograd.numpy as np\n",
    "from autograd import grad \n",
    "import matplotlib.pyplot as plt\n",
    "import pandas as pd\n",
    "from sklearn.linear_model import LinearRegression, Ridge, Lasso \n",
    "from sklearn.model_selection import train_test_split \n",
    "from sklearn.metrics import mean_squared_error\n",
    "\n",
    "# Enable inline plotting\n",
    "%matplotlib inline"
   ]
  },
  {
   "cell_type": "markdown",
   "metadata": {},
   "source": [
    "Q1) [10 points] Implement the linear regression model discussed in class below. The function (called model) takes in an array of data points, x , and an array of weights, w, and returns a vector y_predicted containing the linear combination for each of the data points. This is the linear model we have discussed in class. You can assume each data point in x only has one feature.  The length of the vector being returned should be the same as x.\n"
   ]
  },
  {
   "cell_type": "code",
   "execution_count": 2,
   "metadata": {},
   "outputs": [],
   "source": [
    "def model(w, x):\n",
    "    \"\"\"Predicts an outcome as a linenar combination of features and weights\n",
    "            @param w: a numpy array of weights\n",
    "            @param x: a numpy array of features\n",
    "        @returns: the predicted outcome\n",
    "        \"\"\"\n",
    "    return np.dot(x.T, w[1:]) + w[0]"
   ]
  },
  {
   "cell_type": "markdown",
   "metadata": {},
   "source": [
    "Q2) [10 ponts] Implement the least squares function discussed in class below. The function should take in an array of weights, w, an array of x's and an array of ys. It should use the model function implemented above and return a float indicating the total cost."
   ]
  },
  {
   "cell_type": "code",
   "execution_count": 3,
   "metadata": {},
   "outputs": [],
   "source": [
    "def least_squares(w, x, y):    \n",
    "    \"\"\"Calculates the MSE of a model\n",
    "            @param w: a numpy array of weights\n",
    "            @param x: a numpy array of features\n",
    "            @param y: the actual value\n",
    "        @returns: the mean squared error of the model with the given weights and bias\"\"\"\n",
    "    return np.sum((model(w, x) - y)**2) / float(y.size)"
   ]
  },
  {
   "cell_type": "markdown",
   "metadata": {},
   "source": [
    "Q3) [5 point] This one is a freebie from HW1. Copy and paste your gradient descent function here. Specifically, the one that takes in the cost function as input and return the weight and cost history. We will be using a fixed alpha for this HW. The only difference is that this function should now also take in as input an array of x and ys, corresponding to our data. The w,x, and y are given as inputs to the cost funtion and its gradient."
   ]
  },
  {
   "cell_type": "code",
   "execution_count": 4,
   "metadata": {},
   "outputs": [],
   "source": [
    "def gradient_descent(g, alpha, max_its, w, x, y):\n",
    "    \n",
    "    \"\"\"Finds optimal weights by using gradient descent\n",
    "            @param g: a cost function to optimize\n",
    "            @param alpha: the learning rate\n",
    "            @param max_its: the maximum number of iteratiions to run gradient descent\n",
    "            @param w: a numpy array of starting weights\n",
    "            @param y: actual values\n",
    "        @returns numpy arrays of the weight and cost histories\"\"\"\n",
    "    \n",
    "    # Weights to be updated\n",
    "    wk = w\n",
    "    \n",
    "    # Calculates the gradient for the above function given any w\n",
    "    gradient = grad(g)\n",
    "    \n",
    "    # Will hold the costs and weights after each iteration\n",
    "    cost_history = [g(w, x, y)]\n",
    "    weight_history = [wk]\n",
    "    \n",
    "    # Claculates weights by moving down the gradient\n",
    "    for iter in range(max_its):\n",
    "        wk = wk - alpha*gradient(wk, x, y)\n",
    "        cost_history.append(g(wk, x, y))\n",
    "        weight_history.append(wk)\n",
    "        \n",
    "    return weight_history, cost_history"
   ]
  },
  {
   "cell_type": "markdown",
   "metadata": {},
   "source": [
    "Q4) [1 points]  Run the code below to import a dataset. Then, plot a scatter plot of the data (x vs y)."
   ]
  },
  {
   "cell_type": "code",
   "execution_count": 5,
   "metadata": {},
   "outputs": [],
   "source": [
    "# Import the dataset\n",
    "csvname = 'kleibers_law_data.csv'\n",
    "data = np.loadtxt(csvname, delimiter=',')\n",
    "x = np.log(data[:-1, :])\n",
    "y = np.log(data[-1:, :])"
   ]
  },
  {
   "cell_type": "code",
   "execution_count": 6,
   "metadata": {},
   "outputs": [
    {
     "data": {
      "image/png": "[encoded data removed]",
      "text/plain": [
       "<Figure size 432x288 with 1 Axes>"
      ]
     },
     "metadata": {
      "needs_background": "light"
     },
     "output_type": "display_data"
    }
   ],
   "source": [
    "# Make a scatter plot\n",
    "plt.scatter(x, y)\n",
    "\n",
    "plt.title(\"Correlation between mass and metabolic rate\")\n",
    "plt.xlabel(\"Metabolic rate\")\n",
    "plt.ylabel(\"Mass\")\n",
    "\n",
    "plt.show()"
   ]
  },
  {
   "cell_type": "markdown",
   "metadata": {},
   "source": [
    "Q5) [5 points] Use your gradient descent function to learn a linear regression model for the x and y above using the following parameters and plot the cost_history over the 1000 iterations\n",
    "\n",
    "g = least_squares function you implemented\n",
    "\n",
    "w = [w_0, w_1]  , where w_0 and w_1 are random numbers between -0.1 and 0.1\n",
    "\n",
    "max_its=1000\n",
    "\n",
    "alpha=0.01"
   ]
  },
  {
   "cell_type": "code",
   "execution_count": 7,
   "metadata": {},
   "outputs": [
    {
     "data": {
      "image/png": "[encoded data removed]",
      "text/plain": [
       "<Figure size 432x288 with 1 Axes>"
      ]
     },
     "metadata": {},
     "output_type": "display_data"
    }
   ],
   "source": [
    "# Learn a line\n",
    "first_run = gradient_descent(least_squares, 0.01, 1000, np.repeat(np.random.uniform(-0.1, 0.1), 2), x, y)\n",
    "\n",
    "# Create the basic plot\n",
    "plt.style.use(\"seaborn-whitegrid\")\n",
    "plt.plot(first_run[1])\n",
    "\n",
    "# Make it look better\n",
    "plt.title(\"Cost as a function of iterations\")\n",
    "plt.xlabel(\"Iteration\")\n",
    "plt.ylabel(\"Mean squared error\")\n",
    "\n",
    "plt.show()"
   ]
  },
  {
   "cell_type": "markdown",
   "metadata": {},
   "source": [
    "Q6) [5 points] Use the learned weights from above (note that the \"learned\" weights are the ones with the lowest cost) to plot the learned line. You can use the linspace method (shown below) to generate a list of xs that you can use for plotting. You need to generate a y for each of the candidate xs using the learned weights. On the same figure, also plot the scatter plot from Q4. \n"
   ]
  },
  {
   "cell_type": "code",
   "execution_count": 8,
   "metadata": {},
   "outputs": [
    {
     "data": {
      "image/png": "[encoded data removed]",
      "text/plain": [
       "<Figure size 432x288 with 1 Axes>"
      ]
     },
     "metadata": {},
     "output_type": "display_data"
    }
   ],
   "source": [
    "# Xs to use for prediction\n",
    "s = np.linspace(np.min(x), np.max(x))\n",
    "\n",
    "# Weights where the cost is minimized\n",
    "w_pred = first_run[0][-1]\n",
    "\n",
    "# Predicted y values\n",
    "pred_y = w_pred[1]*s + w_pred[0]\n",
    "\n",
    "plt.plot(s, pred_y)\n",
    "plt.scatter(x, y, color=\"red\", alpha=0.2)\n",
    "plt.title(\"Mass as a function of metabolic rate\")\n",
    "plt.xlabel(\"Metabolic rate\")\n",
    "plt.ylabel(\"Mass\")\n",
    "\n",
    "plt.show()"
   ]
  },
  {
   "cell_type": "markdown",
   "metadata": {},
   "source": [
    "Q7) [1 points]  Run the code below to import a dataset. Then, plot a scatter plot of the data (x vs y). "
   ]
  },
  {
   "cell_type": "code",
   "execution_count": 9,
   "metadata": {},
   "outputs": [
    {
     "data": {
      "image/png": "[encoded data removed]",
      "text/plain": [
       "<Figure size 432x288 with 1 Axes>"
      ]
     },
     "metadata": {},
     "output_type": "display_data"
    }
   ],
   "source": [
    "# load in dataset\n",
    "data = np.loadtxt('regression_outliers.csv', delimiter=',')\n",
    "x = data[:-1, :]\n",
    "y = data[-1:, :]\n",
    "\n",
    "# Make a scatter plot\n",
    "plt.scatter(x, y)\n",
    "\n",
    "# Give it some labels\n",
    "plt.xlabel(\"X\")\n",
    "plt.ylabel(\"Y\")\n",
    "plt.title(\"Y as a function of X\")\n",
    "\n",
    "plt.show()"
   ]
  },
  {
   "cell_type": "markdown",
   "metadata": {},
   "source": [
    "Q8) [10 ponts] Implement the least absolute deviations function discussed in class. The function should take in an array of weights, w, an array of x's and an array of ys. It should use the model function implemented in Q1  and return a float indicating the total cost."
   ]
  },
  {
   "cell_type": "code",
   "execution_count": 10,
   "metadata": {},
   "outputs": [],
   "source": [
    "def least_absolute_deviations(w, x, y):\n",
    "    \"\"\"Implements the least absolute deviatiions function\n",
    "            @param w: a vector of initial weights to use\n",
    "            @param x: a vector of features\n",
    "            @param y: a vector of labels to predict\n",
    "        @returns the cost of the linear combination of weights and features\"\"\"\n",
    "    return np.sum(np.abs(model(w, x) - y)) / float(y.size)"
   ]
  },
  {
   "cell_type": "markdown",
   "metadata": {},
   "source": [
    "Q9) [5 points] Use the gradient descent function twice to learn two linear models using the new x and y from Q7 using the following parameters and plot the cost_history for both runs on the same plot. Make the plot for the first run blue and the plot for the second run red.\n",
    "\n",
    "Run 1) \n",
    "g = least_squares function\n",
    "\n",
    "w = [1.0,1.0]\n",
    "\n",
    "max_its=100\n",
    "\n",
    "alpha=0.1\n",
    "\n",
    "Run 2) \n",
    "g = least_absoulte_deviations\n",
    "\n",
    "w = [1.0,1.0]\n",
    "\n",
    "max_its=100\n",
    "\n",
    "alpha=0.1\n"
   ]
  },
  {
   "cell_type": "code",
   "execution_count": 11,
   "metadata": {},
   "outputs": [
    {
     "data": {
      "image/png": "[encoded data removed]",
      "text/plain": [
       "<Figure size 432x288 with 1 Axes>"
      ]
     },
     "metadata": {},
     "output_type": "display_data"
    }
   ],
   "source": [
    "# Learn two lines with different cost functions\n",
    "second_run = gradient_descent(least_squares, 0.1, 100, np.array([1.0, 1.0]), x, y)\n",
    "third_run = gradient_descent(least_absolute_deviations, 0.1, 100, np.array([1.0, 1.0]), x, y)\n",
    "\n",
    "# Instatniate the plot\n",
    "plot1, ax = plt.subplots()\n",
    "\n",
    "# Add cost histories\n",
    "ax.plot(second_run[1], color=\"blue\")\n",
    "ax.plot(third_run[1], color=\"red\")\n",
    "\n",
    "# make the plot informative\n",
    "ax.set_title(\"Cost history\")\n",
    "ax.legend([\"Least squares\", \"Least absolute deviations\"])\n",
    "ax.xaxis.set_label_text(\"Iteration\")\n",
    "ax.yaxis.set_label_text(\"Cost\")\n",
    "\n",
    "plt.show()"
   ]
  },
  {
   "cell_type": "markdown",
   "metadata": {},
   "source": [
    "Q10) [5 points] Use the learned weights from above to plot the two learned lines (use same colors as above). You can use the linspace method again to generate a list of xs that you can use. On the same figure, also plot the scatter plot from Q7. Which of these lines look like a better fit to you? \n",
    "\n",
    "$\\color{red}{\\text{The plot with the least absolute deviations cost function looks like a better fit, although the outlier might be an important observation.}}$"
   ]
  },
  {
   "cell_type": "code",
   "execution_count": 12,
   "metadata": {},
   "outputs": [
    {
     "data": {
      "image/png": "[encoded data removed]",
      "text/plain": [
       "<Figure size 432x288 with 1 Axes>"
      ]
     },
     "metadata": {},
     "output_type": "display_data"
    }
   ],
   "source": [
    "# Make input values to predict labels for\n",
    "s = np.linspace(np.min(x), np.max(x))\n",
    "\n",
    "# Get predictions from the second run\n",
    "w_pred_2 = second_run[0][-1]\n",
    "pred_y_2 = w_pred_2[1]*s + w_pred_2[0]\n",
    "\n",
    "# Get predictions from the third run\n",
    "w_pred_3 = third_run[0][-1]\n",
    "pred_y_3 = w_pred_3[1]*s + w_pred_3[0]\n",
    "\n",
    "# Instatniate the plot\n",
    "plot2, ax = plt.subplots()\n",
    "\n",
    "# Make a basic plot\n",
    "ax.scatter(x, y, color=\"red\", alpha=0.7, label=\"_nolegend_\")\n",
    "ax.plot(s, pred_y_2, color=\"darkorange\")\n",
    "ax.plot(s, pred_y_3, color=\"seagreen\")\n",
    "\n",
    "# Add informative text\n",
    "ax.set_title(\"Y as a function of X\")\n",
    "ax.legend([\"Least squares\", \"Least absolute deviation\"])\n",
    "ax.xaxis.set_label_text(\"X\")\n",
    "ax.yaxis.set_label_text(\"Y\")\n",
    "\n",
    "plt.show()"
   ]
  },
  {
   "cell_type": "markdown",
   "metadata": {},
   "source": [
    "Q11) [6 points] Implement the mean squared error (MSE) and the mean absolute deviation functions from class. The functions should take in as input an array of actual ys and an array of predicted ys and return the prediction error."
   ]
  },
  {
   "cell_type": "code",
   "execution_count": 13,
   "metadata": {},
   "outputs": [],
   "source": [
    "def MSE(y_actual, y_pred):\n",
    "    return np.sum((y_actual - y_pred)**2) / y_actual.size\n",
    "\n",
    "def MAD(y_actual, y_pred):\n",
    "    return np.sum(np.abs(y_actual - y_pred)) / y_actual.size"
   ]
  },
  {
   "cell_type": "markdown",
   "metadata": {},
   "source": [
    "Q12) [4 points] Use the functions above to report the MSE and MAD for the two models learned in Q9, using the x and y from Q7. You should have 4 values total, two for each model. Which model is doing better? (Note that since you are evaluating the model on the training data, this corresponds to the training error)\n",
    "\n",
    "$\\color{red}{\\text{This is a trick question. The first model has a lower MSE, but the second model has a slightly lower MAD. However, comparing the MSE with }}$\n",
    "$\\color{red}{\\text{the MAD is misleading since they are different functions.}}$\n",
    "$\\color{red}{\\text{Ultimately, which line is a better fit depends on the task at hand.}}$"
   ]
  },
  {
   "cell_type": "code",
   "execution_count": 14,
   "metadata": {},
   "outputs": [
    {
     "name": "stdout",
     "output_type": "stream",
     "text": [
      "The MSE of the first model is 6.841394300667753\n",
      "The MAD of the first model is 1.68937055338514\n",
      "The MSE of the second model is 9.866874898545982\n",
      "The MAD of the first model is 1.09670195220381\n"
     ]
    }
   ],
   "source": [
    "# Get predictions from the second run\n",
    "w_pred_2_small = second_run[0][-1]\n",
    "pred_y_2_small = w_pred_2_small[1]*x + w_pred_2_small[0]\n",
    "\n",
    "# Get predictions from the third run\n",
    "w_pred_3_small = third_run[0][-1]\n",
    "pred_y_3_small = w_pred_3_small[1]*x + w_pred_3_small[0]\n",
    "\n",
    "# Calculate the errors for both runs\n",
    "print(\"The MSE of the first model is \" + str(MSE(y, pred_y_2_small)))\n",
    "print(\"The MAD of the first model is \" + str(MAD(y, pred_y_2_small)))\n",
    "print(\"The MSE of the second model is \" + str(MSE(y, pred_y_3_small)))\n",
    "print(\"The MAD of the first model is \" + str(MAD(y, pred_y_3_small)))"
   ]
  },
  {
   "cell_type": "markdown",
   "metadata": {},
   "source": [
    "Q13) [6 points] Implement the L1 and L2 regularizers from class. Recall the regularizers take in input the weight vector and return a score based on the L1 or L2 norm of the weights"
   ]
  },
  {
   "cell_type": "code",
   "execution_count": 15,
   "metadata": {},
   "outputs": [],
   "source": [
    "def L2_regularizer(w):\n",
    "    return np.linalg.norm(w, axis=1)\n",
    "\n",
    "def L1_regularizer(w):\n",
    "    return np.linalg.norm(w, axis=1, ord=1)"
   ]
  },
  {
   "cell_type": "markdown",
   "metadata": {},
   "source": [
    "Q14) [12 points] Turn the least squares function implemented in Q2 into the Ridge (L2) and Lasso (L1) least squares (covered in class) using the functions implemented in Q13. Recall that $\\lambda$ is used as a hyperparameter to specify the smoothness of the function learned (higher $\\lambda$ leads to simpler and smoother functions whereas lower $\\lambda$ leads to better fitting to the data. $\\lambda=0$ is the same as non-regularized least-squares)"
   ]
  },
  {
   "cell_type": "code",
   "execution_count": 16,
   "metadata": {},
   "outputs": [],
   "source": [
    "def ridge(w, x, y, lmbda):  \n",
    "    return np.sum((model(w, x) - y)**2) / float(y.size) + lmbda*L2_regularizer(w)\n",
    "\n",
    "def lasso(w,x,y,lmbda):    \n",
    "    return np.sum((model(w, x) - y)**2) / float(y.size) + lmbda*L1_regularizer(w)"
   ]
  },
  {
   "cell_type": "markdown",
   "metadata": {},
   "source": [
    "# The rest of the questions are for bonus points, but highly recommended"
   ]
  },
  {
   "cell_type": "markdown",
   "metadata": {},
   "source": [
    "Q15) [2 points] The file 'weatherHistory.csv'has 96,454 lines, each one corresponding to a data point. Each row (i.e., data point), has several columns. Read the data file. Note that the first line is the header describing each column."
   ]
  },
  {
   "cell_type": "code",
   "execution_count": 17,
   "metadata": {},
   "outputs": [
    {
     "data": {
      "text/html": [
       "<div>\n",
       "<style scoped>\n",
       "    .dataframe tbody tr th:only-of-type {\n",
       "        vertical-align: middle;\n",
       "    }\n",
       "\n",
       "    .dataframe tbody tr th {\n",
       "        vertical-align: top;\n",
       "    }\n",
       "\n",
       "    .dataframe thead th {\n",
       "        text-align: right;\n",
       "    }\n",
       "</style>\n",
       "<table border=\"1\" class=\"dataframe\">\n",
       "  <thead>\n",
       "    <tr style=\"text-align: right;\">\n",
       "      <th></th>\n",
       "      <th>Date</th>\n",
       "      <th>Summary</th>\n",
       "      <th>Precip</th>\n",
       "      <th>Temperature</th>\n",
       "      <th>Apparent_Temperature</th>\n",
       "      <th>Humidity</th>\n",
       "      <th>Wind_Speed</th>\n",
       "      <th>Wind_Bearing</th>\n",
       "      <th>Visibility</th>\n",
       "      <th>Loud_Cover</th>\n",
       "      <th>Pressure</th>\n",
       "      <th>Daily_Summary</th>\n",
       "    </tr>\n",
       "  </thead>\n",
       "  <tbody>\n",
       "    <tr>\n",
       "      <th>0</th>\n",
       "      <td>2006-04-01 00:00:00.000 +0200</td>\n",
       "      <td>Partly Cloudy</td>\n",
       "      <td>rain</td>\n",
       "      <td>9.472222</td>\n",
       "      <td>7.388889</td>\n",
       "      <td>0.89</td>\n",
       "      <td>14.1197</td>\n",
       "      <td>251.0</td>\n",
       "      <td>15.8263</td>\n",
       "      <td>0.0</td>\n",
       "      <td>1015.13</td>\n",
       "      <td>Partly cloudy throughout the day.</td>\n",
       "    </tr>\n",
       "    <tr>\n",
       "      <th>1</th>\n",
       "      <td>2006-04-01 01:00:00.000 +0200</td>\n",
       "      <td>Partly Cloudy</td>\n",
       "      <td>rain</td>\n",
       "      <td>9.355556</td>\n",
       "      <td>7.227778</td>\n",
       "      <td>0.86</td>\n",
       "      <td>14.2646</td>\n",
       "      <td>259.0</td>\n",
       "      <td>15.8263</td>\n",
       "      <td>0.0</td>\n",
       "      <td>1015.63</td>\n",
       "      <td>Partly cloudy throughout the day.</td>\n",
       "    </tr>\n",
       "    <tr>\n",
       "      <th>2</th>\n",
       "      <td>2006-04-01 02:00:00.000 +0200</td>\n",
       "      <td>Mostly Cloudy</td>\n",
       "      <td>rain</td>\n",
       "      <td>9.377778</td>\n",
       "      <td>9.377778</td>\n",
       "      <td>0.89</td>\n",
       "      <td>3.9284</td>\n",
       "      <td>204.0</td>\n",
       "      <td>14.9569</td>\n",
       "      <td>0.0</td>\n",
       "      <td>1015.94</td>\n",
       "      <td>Partly cloudy throughout the day.</td>\n",
       "    </tr>\n",
       "    <tr>\n",
       "      <th>3</th>\n",
       "      <td>2006-04-01 03:00:00.000 +0200</td>\n",
       "      <td>Partly Cloudy</td>\n",
       "      <td>rain</td>\n",
       "      <td>8.288889</td>\n",
       "      <td>5.944444</td>\n",
       "      <td>0.83</td>\n",
       "      <td>14.1036</td>\n",
       "      <td>269.0</td>\n",
       "      <td>15.8263</td>\n",
       "      <td>0.0</td>\n",
       "      <td>1016.41</td>\n",
       "      <td>Partly cloudy throughout the day.</td>\n",
       "    </tr>\n",
       "    <tr>\n",
       "      <th>4</th>\n",
       "      <td>2006-04-01 04:00:00.000 +0200</td>\n",
       "      <td>Mostly Cloudy</td>\n",
       "      <td>rain</td>\n",
       "      <td>8.755556</td>\n",
       "      <td>6.977778</td>\n",
       "      <td>0.83</td>\n",
       "      <td>11.0446</td>\n",
       "      <td>259.0</td>\n",
       "      <td>15.8263</td>\n",
       "      <td>0.0</td>\n",
       "      <td>1016.51</td>\n",
       "      <td>Partly cloudy throughout the day.</td>\n",
       "    </tr>\n",
       "  </tbody>\n",
       "</table>\n",
       "</div>"
      ],
      "text/plain": [
       "                            Date        Summary Precip  Temperature  \\\n",
       "0  2006-04-01 00:00:00.000 +0200  Partly Cloudy   rain     9.472222   \n",
       "1  2006-04-01 01:00:00.000 +0200  Partly Cloudy   rain     9.355556   \n",
       "2  2006-04-01 02:00:00.000 +0200  Mostly Cloudy   rain     9.377778   \n",
       "3  2006-04-01 03:00:00.000 +0200  Partly Cloudy   rain     8.288889   \n",
       "4  2006-04-01 04:00:00.000 +0200  Mostly Cloudy   rain     8.755556   \n",
       "\n",
       "   Apparent_Temperature  Humidity  Wind_Speed  Wind_Bearing  Visibility  \\\n",
       "0              7.388889      0.89     14.1197         251.0     15.8263   \n",
       "1              7.227778      0.86     14.2646         259.0     15.8263   \n",
       "2              9.377778      0.89      3.9284         204.0     14.9569   \n",
       "3              5.944444      0.83     14.1036         269.0     15.8263   \n",
       "4              6.977778      0.83     11.0446         259.0     15.8263   \n",
       "\n",
       "   Loud_Cover  Pressure                      Daily_Summary  \n",
       "0         0.0   1015.13  Partly cloudy throughout the day.  \n",
       "1         0.0   1015.63  Partly cloudy throughout the day.  \n",
       "2         0.0   1015.94  Partly cloudy throughout the day.  \n",
       "3         0.0   1016.41  Partly cloudy throughout the day.  \n",
       "4         0.0   1016.51  Partly cloudy throughout the day.  "
      ]
     },
     "execution_count": 17,
     "metadata": {},
     "output_type": "execute_result"
    }
   ],
   "source": [
    "# Read the data\n",
    "weather_history = pd.read_csv(\"weatherHistory.csv\")\n",
    "\n",
    "# Numpy, especially Autograd's Numpy, does not like multiplt data types so pandas is a better choice her\n",
    "weather_history.head()"
   ]
  },
  {
   "cell_type": "markdown",
   "metadata": {},
   "source": [
    "Q16) [5 points] Use the data above to set y to be the temperatures and X to be the following columns (in order): [Apparent_Temperature, Humidity, Wind_Speed, Wind_Bearing, Visibility, Pressure] Basically, we want to see whether we can predict the temperature, using the features in X."
   ]
  },
  {
   "cell_type": "code",
   "execution_count": 18,
   "metadata": {},
   "outputs": [],
   "source": [
    "# Create the labels\n",
    "labs = weather_history[\"Temperature\"].to_numpy()\n",
    "\n",
    "# Convert features to a Numpy array\n",
    "features = weather_history[[\"Apparent_Temperature\", \"Humidity\", \"Wind_Speed\", \"Wind_Bearing\", \"Visibility\", \"Pressure\"]]"
   ]
  },
  {
   "cell_type": "markdown",
   "metadata": {},
   "source": [
    "We are now going to using a well-known ML library called sklearn. If you do not have it installed, please do so using this instruction: https://scikit-learn.org/stable/install.html\n",
    "\n",
    "sklearn comes with many models already implemented, below we import the standard linear regression, Ridge, and Lasso models from sklearn. We also import a method that can divide our data into train/test sets. Please run the cell below."
   ]
  },
  {
   "cell_type": "markdown",
   "metadata": {},
   "source": [
    "This library is very easy to use. We briefly went over it in the class but please use the API and user guide  ( https://scikit-learn.org) to learn exactly how to use this library.\n",
    "\n",
    "For instance, learning a linear regression model using sklearn can be done in two lines:\n",
    "\n",
    "linearModel = LinearRegression() \n",
    "\n",
    "linearModel.fit(x_train, y_train)"
   ]
  },
  {
   "cell_type": "markdown",
   "metadata": {},
   "source": [
    "Q17) [2 points] Use the train_test_split to divide your modified data from Q16 into 80% train, 20% test. "
   ]
  },
  {
   "cell_type": "code",
   "execution_count": 19,
   "metadata": {},
   "outputs": [],
   "source": [
    "# Create training and test splits\n",
    "x_train, x_test, y_train, y_test = train_test_split(features, labs, test_size=0.2, random_state=8675309)"
   ]
  },
  {
   "cell_type": "markdown",
   "metadata": {},
   "source": [
    "Q18) [10 points] Use sklearn to train a LinearRegression model using the data above. Report the performance of the model on the test data (use sklearn's MSE implementation: https://scikit-learn.org/stable/modules/generated/sklearn.metrics.mean_squared_error.html). Note that the .predict method can be used to get the y_predictions for the test xs."
   ]
  },
  {
   "cell_type": "code",
   "execution_count": 20,
   "metadata": {},
   "outputs": [
    {
     "name": "stdout",
     "output_type": "stream",
     "text": [
      "The MSE for this model is 0.8998867957193769\n"
     ]
    }
   ],
   "source": [
    "# Train a linear model\n",
    "m1 = LinearRegression()\n",
    "m1.fit(x_train, y_train)\n",
    "\n",
    "# Get predictions\n",
    "m1_predictions = m1.predict(x_train)\n",
    "\n",
    "# Report MSE\n",
    "print(\"The MSE for this model is \" + str(mean_squared_error(y_train, m1_predictions)))"
   ]
  },
  {
   "cell_type": "markdown",
   "metadata": {},
   "source": [
    "Q19) [10 points] Repeat Q18 but instead of LinearRegression, use the Ridge and Lasso functions. You can keep the default alpha (note that what we called lambda in the class, the hyperparameter for regularization, is called alpha in sklearn. It is the same thing)."
   ]
  },
  {
   "cell_type": "code",
   "execution_count": 21,
   "metadata": {},
   "outputs": [
    {
     "name": "stdout",
     "output_type": "stream",
     "text": [
      "The MSE for the ridge regression is 0.8998868116862557\n",
      "The MSE for the LASSO regression is 0.980026238363337\n"
     ]
    }
   ],
   "source": [
    "# Ridge regression\n",
    "m2 = Ridge()\n",
    "m2.fit(x_train, y_train)\n",
    "\n",
    "# Get predictions\n",
    "m2_predictions = m2.predict(x_train)\n",
    "\n",
    "# Report MSE\n",
    "print(\"The MSE for the ridge regression is \" + str(mean_squared_error(y_train, m2_predictions)))\n",
    "\n",
    "# Lasso regression\n",
    "m3 = Lasso()\n",
    "m3.fit(x_train, y_train)\n",
    "\n",
    "\n",
    "# Get predictions\n",
    "m3_predictions = m3.predict(x_train)\n",
    "\n",
    "# Report MSE\n",
    "print(\"The MSE for the LASSO regression is \" + str(mean_squared_error(y_train, m3_predictions)))"
   ]
  },
  {
   "cell_type": "markdown",
   "metadata": {},
   "source": [
    "Q20) [4 points] Print the learned parameters for the Ridge and Lasso models (using .coef_).  Note that the parameters below correspond to the feature vector ( [Apparent_Temperature, Humidity, Wind_Speed, Wind_Bearing, Visibility, Pressure]), in order. I.e., the first value corresponds to \"Apparent_Temperature\", etc. What is the difference between the ridge and lasso parameters? Which features, if any, have been eliminated by lasso?\n",
    "\n",
    "$\\color{red}{\\text{The learned parameters are slightly smaller in magnitude in the LASSO regression than in the ridge regression and humidity and visibility }}$\n",
    "$\\color{red}{\\text{have been zeroed out by the L1 regularization.}}$"
   ]
  },
  {
   "cell_type": "code",
   "execution_count": 22,
   "metadata": {},
   "outputs": [
    {
     "name": "stdout",
     "output_type": "stream",
     "text": [
      "[ 8.72420515e-01 -1.42958858e+00  7.90945789e-02 -4.26522848e-04\n",
      "  9.10628696e-03 -1.93565304e-04]\n",
      "[ 8.80345137e-01 -0.00000000e+00  6.82305331e-02 -2.72813846e-04\n",
      "  0.00000000e+00 -1.49794726e-04]\n"
     ]
    }
   ],
   "source": [
    "# Examine weights\n",
    "print(m2.coef_)\n",
    "print(m3.coef_)"
   ]
  }
 ],
 "metadata": {
  "kernelspec": {
   "display_name": "Python 3 (ipykernel)",
   "language": "python",
   "name": "python3"
  },
  "language_info": {
   "codemirror_mode": {
    "name": "ipython",
    "version": 3
   },
   "file_extension": ".py",
   "mimetype": "text/x-python",
   "name": "python",
   "nbconvert_exporter": "python",
   "pygments_lexer": "ipython3",
   "version": "3.9.7"
  }
 },
 "nbformat": 4,
 "nbformat_minor": 2
}
