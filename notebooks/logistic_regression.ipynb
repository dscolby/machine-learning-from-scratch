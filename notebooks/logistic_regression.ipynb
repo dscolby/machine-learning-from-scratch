{
 "cells": [
  {
   "cell_type": "markdown",
   "metadata": {},
   "source": [
    "# Homework 3\n",
    "\n",
    "Please run the cell below to import libraries needed for this HW. Please use the autograd numpy, otherwise you will have issues. Please remember to always use the np library for mathematical functions (e.g., np.log, np.exp, np.sum, etc)"
   ]
  },
  {
   "cell_type": "code",
   "execution_count": 1,
   "metadata": {},
   "outputs": [],
   "source": [
    "# Necesary imports\n",
    "import autograd.numpy as np\n",
    "from autograd import grad \n",
    "import matplotlib.pyplot as plt\n",
    "\n",
    "# Imports for extra credit\n",
    "from sklearn.linear_model import LogisticRegression\n",
    "from sklearn.model_selection import train_test_split\n",
    "from sklearn.metrics import roc_curve, roc_auc_score\n",
    "\n",
    "# Inline plotting\n",
    "%matplotlib inline"
   ]
  },
  {
   "cell_type": "markdown",
   "metadata": {},
   "source": [
    "Q1) [5 points] Implement the sigmod funcation discussed in class. The function takes a value, x, as input and returns the sigmoid function applied to the value."
   ]
  },
  {
   "cell_type": "code",
   "execution_count": 2,
   "metadata": {},
   "outputs": [],
   "source": [
    "def sigmoid(x):\n",
    "    \"\"\"Calculates the sigmoid of a value or vecctor\n",
    "            @param x: the number or vector to transform\n",
    "        @return the sigmoid transformation of the input\"\"\"\n",
    "    return 1.0 / (1.0 + np.exp(-x))"
   ]
  },
  {
   "cell_type": "markdown",
   "metadata": {},
   "source": [
    "Q2) [20 points] Implement the logistic regression model and the cross entropy cost discussed in class. Note that the logistic regression model relies on the sigmoid function (which you have implemented above) and the linear  model (which you have implemented in HW2). You can use the linear model from HW2 for this problem. Similar to the least-squares cost from HW2, the cross entropy cost takes in as input an array of weights, w, an array of x's and an array of ys and return a float indicating the total cost."
   ]
  },
  {
   "cell_type": "code",
   "execution_count": 3,
   "metadata": {},
   "outputs": [],
   "source": [
    "def model(x, w):\n",
    "    \"\"\"Models inputs and weights as a linear combination\n",
    "            @param x: a vector or array of input features\n",
    "            @param w: an array of weights\"\"\"\n",
    "    # The linear regression\n",
    "    return (np.dot(x.T, w[1:]) + w[0]).T\n",
    "\n",
    "def cross_entropy(w, x, y, eps=1e-7):\n",
    "    \"\"\"Calculates the cross entropy cost\n",
    "            @param w: an array of weights\n",
    "            @param x: an array of features\n",
    "            @param y: an array of predicted values\n",
    "        @return the cross entropy loss\"\"\"\n",
    "    return  -(1.0/float(y.size)) * (np.sum(y * np.log(sigmoid(model(x, w))) + (1 - y) * \\\n",
    "                                           np.log((1 - sigmoid(model(x, w)) + eps))))"
   ]
  },
  {
   "cell_type": "markdown",
   "metadata": {},
   "source": [
    "Q3) [2 points] Run the code below to read a data file. Plot a scatter plot of x vs y."
   ]
  },
  {
   "cell_type": "code",
   "execution_count": 4,
   "metadata": {},
   "outputs": [
    {
     "data": {
      "image/png": "[encoded data removed]",
      "text/plain": [
       "<Figure size 432x288 with 1 Axes>"
      ]
     },
     "metadata": {
      "needs_background": "light"
     },
     "output_type": "display_data"
    }
   ],
   "source": [
    "csvname = '2d_classification_data_v1_entropy.csv'\n",
    "data = np.loadtxt(csvname, delimiter = ',')\n",
    "x = data[:-1,:]\n",
    "y = data[-1:,:]\n",
    "\n",
    "# Plot the data\n",
    "plt.scatter(x, y)\n",
    "\n",
    "# Add labels\n",
    "plt.xlabel(\"X\")\n",
    "plt.ylabel(\"Y\")\n",
    "\n",
    "# Show the plot\n",
    "plt.show()"
   ]
  },
  {
   "cell_type": "markdown",
   "metadata": {},
   "source": [
    "Q4) [10 points] Move the gradient descent function from HW2. Run the function using the cross_entropy cost and the x and y from above. The parameters should be set to: max_its=2000,w=[3.0,3.0 ], and alpha=1. Save the cost and weight history returned by the gradient descent function. Plot the cost history.\n"
   ]
  },
  {
   "cell_type": "code",
   "execution_count": 5,
   "metadata": {},
   "outputs": [],
   "source": [
    "def gradient_descent(g, alpha, max_its, w, x, y):\n",
    "    \"\"\"Finds optimal weights by using gradient descent\n",
    "            @param g: a cost function to optimize\n",
    "            @param alpha: the learning rate\n",
    "            @param max_its: the maximum number of iteratiions to run gradient descent\n",
    "            @param w: a numpy array of starting weights\n",
    "            @param y: actual values\n",
    "        @returns numpy arrays of the weight and cost histories\"\"\"\n",
    "    \n",
    "    # Weights to be updated\n",
    "    wk = w\n",
    "    \n",
    "    # Calculates the gradient for the above function given any w\n",
    "    gradient = grad(g)\n",
    "    \n",
    "    # Will hold the costs and weights after each iteration\n",
    "    cost_history = [g(w, x, y)]\n",
    "    weight_history = [wk]\n",
    "    \n",
    "    # Claculates weights by moving down the gradient\n",
    "    for iter in range(max_its):\n",
    "        wk = wk - alpha*gradient(wk, x, y)\n",
    "        cost_history.append(g(wk, x, y))\n",
    "        weight_history.append(wk)\n",
    "        \n",
    "    return weight_history, cost_history"
   ]
  },
  {
   "cell_type": "code",
   "execution_count": 6,
   "metadata": {},
   "outputs": [
    {
     "data": {
      "image/png": "[encoded data removed]",
      "text/plain": [
       "<Figure size 432x288 with 1 Axes>"
      ]
     },
     "metadata": {
      "needs_background": "light"
     },
     "output_type": "display_data"
    }
   ],
   "source": [
    "# Run gradient descent\n",
    "run1_wh, run1_ch = gradient_descent(cross_entropy, 1, 2000, np.array([3.0, 3.0]), x, y)\n",
    "\n",
    "# Plot the cost history\n",
    "plt.plot(run1_ch)\n",
    "\n",
    "# Add informative labels\n",
    "plt.title(\"Cost as a function of training iterations\")\n",
    "plt.xlabel(\"Iteration\")\n",
    "plt.ylabel(\"Log error\")\n",
    "\n",
    "# Show the plot\n",
    "plt.show()"
   ]
  },
  {
   "cell_type": "markdown",
   "metadata": {},
   "source": [
    "Q5) [10 points] Implement a logistic regression classifier that takes in the learned weights and x as input and returns the probability of the positive class (note that this is just the output of the sigmoid applied to the linear combination of the x and w)"
   ]
  },
  {
   "cell_type": "code",
   "execution_count": 7,
   "metadata": {},
   "outputs": [],
   "source": [
    "def logistic_regression(learned_w, x):\n",
    "    \"\"\"Calculates the probability of the positive class\n",
    "            @param learned_w: an array of learned weights\n",
    "            @param x: a vector of features\n",
    "        @return an array of predicted class probabilities\"\"\"\n",
    "    return sigmoid(model(x, learned_w))"
   ]
  },
  {
   "cell_type": "markdown",
   "metadata": {},
   "source": [
    "Q6) [5 points] Use the learned weights from the last gradient descent run and the logistic regression function implemented above to plot the learned curve. You can use the linspace method (shown below) to generate a list of xs that you can use. You need to generate a y for each of the candidate xs using the logistic regression function and the learned weights. On the same figure, also plot the scatter plot from Q3. \n"
   ]
  },
  {
   "cell_type": "code",
   "execution_count": 8,
   "metadata": {},
   "outputs": [
    {
     "data": {
      "image/png": "[encoded data removed]",
      "text/plain": [
       "<Figure size 432x288 with 1 Axes>"
      ]
     },
     "metadata": {
      "needs_background": "light"
     },
     "output_type": "display_data"
    }
   ],
   "source": [
    "s = np.linspace(np.min(x), np.max(x))\n",
    "\n",
    "# Predict the classes using the model\n",
    "p1 = logistic_regression(run1_wh[-1], np.array([s]))\n",
    "\n",
    "# Plot the curve\n",
    "plt.plot(s, p1)\n",
    "\n",
    "# Add informative information\n",
    "plt.title(\"Logistic regression predictions\")\n",
    "plt.xlabel(\"X\")\n",
    "plt.ylabel(\"Predicted probability\")\n",
    "\n",
    "# Show the plot\n",
    "plt.show()"
   ]
  },
  {
   "cell_type": "markdown",
   "metadata": {},
   "source": [
    "Q7) [5 points] Slightly modify the logistic regression model above so that it returns a 1 or 0 based on the specified threshold."
   ]
  },
  {
   "cell_type": "code",
   "execution_count": 9,
   "metadata": {},
   "outputs": [],
   "source": [
    "def logistic_regression_modified(learned_w, x, threshold):\n",
    "    \"\"\"Calculates the predicted class label using input features and learned weights\n",
    "            @param learned_w: an array of learned weights\n",
    "            @param x: an array of features\n",
    "            @param threshold: a threshold to determine which class a prediction belongs to\n",
    "        @return an array of predicted class labels\"\"\"\n",
    "    # Get predicted probabilities\n",
    "    probs = sigmoid(model(x, learned_w))\n",
    "    \n",
    "    # Convert them to class labels based on the threshold\n",
    "    class_label = np.where(probs > threshold, 1, 0)\n",
    "    \n",
    "    return class_label"
   ]
  },
  {
   "cell_type": "markdown",
   "metadata": {},
   "source": [
    "Q8) [15 points] Write a function (called evaluate) that takes in actual and predicted ys (for a binary classification problem) and return a confusion matrix and the accuracy. Use the modified logistic regression model and the evaluate function below to report the confusion matrix and accuracy for the x and y used for our training at a threshold of 0.5.  "
   ]
  },
  {
   "cell_type": "code",
   "execution_count": 10,
   "metadata": {},
   "outputs": [
    {
     "data": {
      "text/plain": [
       "(0, 0, 45, 10, 1.0)"
      ]
     },
     "execution_count": 10,
     "metadata": {},
     "output_type": "execute_result"
    }
   ],
   "source": [
    "def evaluate(y_actual, y_pred):\n",
    "    \"\"\"Calculates true positives, true negatives, false positives, false negatives, and accuracy\n",
    "            @param y_actual: actual labels\n",
    "            @param y_pred: predicted labels\n",
    "        @return a tuple of the false positives, false negatives, true positives, true negatives, and accuracy\"\"\"\n",
    "    # Calculate positives and negatives\n",
    "    true_positive = np.sum(np.where((y_pred == 1) & (y_actual == 1)))\n",
    "    true_negative = np.sum(np.where((y_pred == 0) & (y_actual == 0)))\n",
    "    false_positive = np.sum(np.where((y_pred == 1) & (y_actual == 0)))\n",
    "    false_negative = np.sum(np.where((y_pred == 0) & (y_actual == 1)))\n",
    "            \n",
    "    # Calculate accuracy\n",
    "    accuracy = (true_positive + true_negative) / (true_positive + true_negative + false_positive + false_negative)\n",
    "        \n",
    "    return false_positive, false_negative, true_positive, true_negative, accuracy\n",
    "\n",
    "# Get predicted labels\n",
    "p2 = logistic_regression_modified(run1_wh[-1], x, 0.5)\n",
    "\n",
    "# Call the function\n",
    "evaluate(y, p2)"
   ]
  },
  {
   "cell_type": "markdown",
   "metadata": {},
   "source": [
    "Q9) [20 points] Implement the perceptron cost function from the class (the softmax version). Note that the perceptron cost also uses the linear model (the model function from question 2)."
   ]
  },
  {
   "cell_type": "code",
   "execution_count": 11,
   "metadata": {},
   "outputs": [],
   "source": [
    "def perceptron_cost(w, x, y):   \n",
    "    \"\"\"Calculates the perceptron softmax cost\n",
    "            @param w: an array of weights\n",
    "            @param x: an array of features\n",
    "            @param y: an array of labels\n",
    "        @return the perceptron softmax cost\"\"\"\n",
    "    return np.sum(np.log(1 + np.exp(-y * model(x, w)))) / float(y.size)"
   ]
  },
  {
   "cell_type": "markdown",
   "metadata": {},
   "source": [
    "Q10) [10 points] Run gradient descent function using the perceptron cost and the x and y from above and the parameters set to: max_its=2000,w=[1.0,1.0], and alpha=1.0. Save the cost and weight history returned by the gradient descent function. Plot the cost history. Which cost seems to do better on this dataset? Why do think that is?\n",
    "\n",
    "$\\color{red}{\\text{The cross entropy function had a slightly lower cost, but that is because it is slightly different than the softmax perceptron cost. Even if you could}}$\n",
    "$\\color{red}{\\text{compare the two cost functions to each other, the perceptron cost may perform better on a different dataset. The most important thing is that}}$$\\color{red}{\\text{gradient descent converged with both cost functions}}$"
   ]
  },
  {
   "cell_type": "code",
   "execution_count": 12,
   "metadata": {},
   "outputs": [
    {
     "data": {
      "image/png": "[encoded data removed]",
      "text/plain": [
       "<Figure size 432x288 with 1 Axes>"
      ]
     },
     "metadata": {
      "needs_background": "light"
     },
     "output_type": "display_data"
    }
   ],
   "source": [
    "# Convert class labels for a perceptron\n",
    "y[y==0] = -1\n",
    "\n",
    "# Run gradient descent\n",
    "run2_wh, run2_ch = gradient_descent(perceptron_cost, 1, 2000, np.array([1.0, 1.0]).reshape((2, 1)), x, y)\n",
    "\n",
    "# Instantiate a plot\n",
    "plt.plot(run2_ch)\n",
    "\n",
    "# Add informative text\n",
    "plt.title(\"Softmax perceptron cost\")\n",
    "plt.xlabel(\"Iteration\")\n",
    "plt.ylabel(\"Cost\")\n",
    "\n",
    "# Show the plot\n",
    "plt.show()"
   ]
  },
  {
   "cell_type": "markdown",
   "metadata": {},
   "source": [
    "## The rest of these problems are for bonus points"
   ]
  },
  {
   "cell_type": "markdown",
   "metadata": {},
   "source": [
    "Q11) [2 points]  The file 'heart.csv' has 304 lines, each one corresponding to a data point. Each row (i.e., data point), has several columns. Read the data file. Note that the first line is the header describing each column."
   ]
  },
  {
   "cell_type": "code",
   "execution_count": 13,
   "metadata": {},
   "outputs": [],
   "source": [
    "# Load the data\n",
    "heart_data = np.loadtxt('heart.csv', delimiter = ',', skiprows=1)"
   ]
  },
  {
   "cell_type": "markdown",
   "metadata": {},
   "source": [
    "Q12) [2 points] Use the data above to set y to be the \"target\" and X to be the remaining columns."
   ]
  },
  {
   "cell_type": "code",
   "execution_count": 14,
   "metadata": {},
   "outputs": [],
   "source": [
    "# Split the data into features and labels\n",
    "x = heart_data[:, :-1]\n",
    "y = heart_data[:, -1]"
   ]
  },
  {
   "cell_type": "markdown",
   "metadata": {},
   "source": [
    "Q13) [2 points] Run the code below to import the logistic regression and the train_test split functions from sklearn. Split your data into 80% train 20% test."
   ]
  },
  {
   "cell_type": "code",
   "execution_count": 15,
   "metadata": {},
   "outputs": [],
   "source": [
    " # Create train and test splits\n",
    "x_train, x_test, y_train, y_test = train_test_split(x, y, test_size=0.2, random_state=9)"
   ]
  },
  {
   "cell_type": "markdown",
   "metadata": {},
   "source": [
    "Q14) [5 points] Use sklearn to fit a logistic regression model on your training set. Use all the default parameter. Do not evaluate at this point. (You can find out about sklearn logistic regression here: https://scikit-learn.org/stable/modules/generated/sklearn.linear_model.LogisticRegression.html)"
   ]
  },
  {
   "cell_type": "code",
   "execution_count": 16,
   "metadata": {},
   "outputs": [
    {
     "data": {
      "text/plain": [
       "LogisticRegression(max_iter=1000, random_state=17)"
      ]
     },
     "execution_count": 16,
     "metadata": {},
     "output_type": "execute_result"
    }
   ],
   "source": [
    "# Instantiate a logistic regression and fit it to the data\n",
    "log_reg = LogisticRegression(random_state=17, max_iter=1000)\n",
    "log_reg.fit(x_train, y_train)"
   ]
  },
  {
   "cell_type": "markdown",
   "metadata": {},
   "source": [
    "Q15) [5 points] Use the .predict_proba function of the logistic regression model that you have learned on your X_test. Note that the .predict_proba function returns an array of tuples where each element corresponds to the predicted probability for class 0 and 1 of the data point."
   ]
  },
  {
   "cell_type": "code",
   "execution_count": 17,
   "metadata": {},
   "outputs": [],
   "source": [
    "# Extract predicted classes\n",
    "predicted_classes = log_reg.predict_proba(x_test)"
   ]
  },
  {
   "cell_type": "markdown",
   "metadata": {},
   "source": [
    "Q16) [2 points] Filter the predicted probabilties from the last question to an array containing only the probabilites for class 1. I.e., you should no longer have tuples."
   ]
  },
  {
   "cell_type": "code",
   "execution_count": 18,
   "metadata": {},
   "outputs": [],
   "source": [
    "# Extract predictions for the positive class\n",
    "pred_pos_class = predicted_classes[:, 1]"
   ]
  },
  {
   "cell_type": "markdown",
   "metadata": {},
   "source": [
    "Q17) [8 points] Use the roc_curve function from sklearn (https://scikit-learn.org/stable/modules/generated/sklearn.metrics.roc_curve.html) to plot the ROC curve for your predictions using the predicted probabilities for class 1 and your y_test (use the default parameters). Also, print out the thresholds generated by the roc_curve function."
   ]
  },
  {
   "cell_type": "code",
   "execution_count": 19,
   "metadata": {},
   "outputs": [
    {
     "data": {
      "image/png": "[encoded data removed]",
      "text/plain": [
       "<Figure size 432x288 with 1 Axes>"
      ]
     },
     "metadata": {
      "needs_background": "light"
     },
     "output_type": "display_data"
    },
    {
     "data": {
      "text/plain": [
       "array([1.99292992e+00, 9.92929923e-01, 8.99996642e-01, 8.93741445e-01,\n",
       "       7.92573843e-01, 7.91373429e-01, 7.76096338e-01, 6.91785094e-01,\n",
       "       4.10524410e-01, 2.33392055e-01, 2.32385783e-01, 2.21293812e-01,\n",
       "       8.99510014e-02, 6.01463811e-02, 5.95939813e-02, 4.43987403e-02,\n",
       "       3.56162059e-02, 1.28491632e-03])"
      ]
     },
     "execution_count": 19,
     "metadata": {},
     "output_type": "execute_result"
    }
   ],
   "source": [
    "fpr, tpr, thresholds = roc_curve(y_test, pred_pos_class, pos_label=1)\n",
    "\n",
    "# Generate plot\n",
    "plt.plot(fpr, tpr)\n",
    "\n",
    "# Add informative labels\n",
    "plt.title(\"Reciever operating characteristic\")\n",
    "plt.xlabel(\"False positive rate\")\n",
    "plt.ylabel(\"True positive rate\")\n",
    "\n",
    "# Display the plot\n",
    "plt.show()\n",
    "\n",
    "# Print out the thresholds\n",
    "thresholds"
   ]
  },
  {
   "cell_type": "markdown",
   "metadata": {},
   "source": [
    "Q18) [2 points] Use the roc_auc_score function from sklearn (https://scikit-learn.org/stable/modules/generated/sklearn.metrics.roc_auc_score.html#sklearn.metrics.roc_auc_score) to report the AUC score using the exact same setup as the last question."
   ]
  },
  {
   "cell_type": "code",
   "execution_count": 20,
   "metadata": {},
   "outputs": [
    {
     "data": {
      "text/plain": [
       "0.9004576659038902"
      ]
     },
     "execution_count": 20,
     "metadata": {},
     "output_type": "execute_result"
    }
   ],
   "source": [
    "# Calculate the ROC curve using sklearn functions\n",
    "roc_auc_score(y_test, pred_pos_class)"
   ]
  }
 ],
 "metadata": {
  "kernelspec": {
   "display_name": "Python 3 (ipykernel)",
   "language": "python",
   "name": "python3"
  },
  "language_info": {
   "codemirror_mode": {
    "name": "ipython",
    "version": 3
   },
   "file_extension": ".py",
   "mimetype": "text/x-python",
   "name": "python",
   "nbconvert_exporter": "python",
   "pygments_lexer": "ipython3",
   "version": "3.9.7"
  }
 },
 "nbformat": 4,
 "nbformat_minor": 2
}
